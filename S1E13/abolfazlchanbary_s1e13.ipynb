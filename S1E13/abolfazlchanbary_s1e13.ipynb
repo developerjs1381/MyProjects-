{
 "cells": [
  {
   "cell_type": "markdown",
   "metadata": {},
   "source": [
    "<div class=\"col\" style=\"color:white;font-size:65px;text-align:center;text-shadow:1px 1px 12px cyan\">Task3..S1E13</div>"
   ]
  },
  {
   "cell_type": "markdown",
   "metadata": {},
   "source": [
    "<p style=\"color:green;font-size:25px\">Part1</p>"
   ]
  },
  {
   "cell_type": "code",
   "execution_count": 20,
   "metadata": {},
   "outputs": [
    {
     "name": "stdout",
     "output_type": "stream",
     "text": [
      "Cannot convert ➡️slam⬅️ to an integer 🤦‍♂️❌\n",
      "Cannot convert ➡️v,dv⬅️ to an integer 🤦‍♂️❌\n",
      "[12, 14, 15, 18]\n"
     ]
    }
   ],
   "source": [
    "# تعریف تابع برای تبدیل رشته‌ها به اعداد \n",
    "def convert_to_integers(string_list):\n",
    "    valid_numbers = []  # ایجاد یک لیست خالی برای ذخیره مقادیر \n",
    "    for item in string_list:\n",
    "        # بررسی اینکه آیا عنصر یک عدد است\n",
    "        if item.isdigit():\n",
    "            # تبدیل به عدد  و افزودن به لیست\n",
    "            number = int(item)\n",
    "            valid_numbers.append(number)\n",
    "        else:\n",
    "            # اگر نتوانستیم تبدیل کنیم، پیام خطا چاپ می‌شود\n",
    "            print(f\"Cannot convert ➡️{item}⬅️ to an integer 🤦‍♂️❌\")\n",
    "    return valid_numbers  # بازگشت لیست نهایی از اعداد صحیح\n",
    "\n",
    "# لیست ورودی\n",
    "string_list = [\"12\", \"14\", \"slam\", \"15\", \"18\",\"v,dv\"]\n",
    "\n",
    "# فراخوانی تابع و چاپ نتیجه\n",
    "result = convert_to_integers(string_list)\n",
    "print(result)\n"
   ]
  },
  {
   "cell_type": "markdown",
   "metadata": {},
   "source": [
    "<p style=\"color:green;font-size:25px\">Part2</p>"
   ]
  },
  {
   "cell_type": "code",
   "execution_count": 23,
   "metadata": {},
   "outputs": [
    {
     "name": "stdout",
     "output_type": "stream",
     "text": [
      "The number 44🦋 is repeated 0😎 times in your list.\n"
     ]
    }
   ],
   "source": [
    "def Repeating_numbers(lst, num):\n",
    "    count = 0  # شمارش تعداد تکرار\n",
    "    for item in lst:\n",
    "        if item == num:\n",
    "            count += 1\n",
    "    print(f\"The number {num}🦋 is repeated {count}😎 times in your list.\")\n",
    "\n",
    "# لیست ورودی\n",
    "lst = [12, 12, 14, 15, 12, 15, 14, 16, 12, 17, 17, 15, 16]\n",
    "\n",
    "\n",
    "try:\n",
    "    # عدد مورد نظر برای شمارش\n",
    "    num = int(input(\"Enter your number to check: \"))  # گرفتن ورودی و تبدیل به عدد صحیح\n",
    "\n",
    "    # فراخوانی تابع\n",
    "    Repeating_numbers(lst, num)\n",
    "\n",
    "except ValueError:\n",
    "    print(\"Oops! Please enter a valid number.❌\")  # پیام خطا در صورت وارد کردن عدد نامعتبر\n"
   ]
  },
  {
   "cell_type": "markdown",
   "metadata": {},
   "source": [
    "<p style=\"color:green;font-size:25px\">Part1</p>"
   ]
  },
  {
   "cell_type": "code",
   "execution_count": 24,
   "metadata": {},
   "outputs": [
    {
     "name": "stdout",
     "output_type": "stream",
     "text": [
      "hll wrld\n"
     ]
    }
   ],
   "source": [
    "def remove_vowels(text):\n",
    "    vowels = [\"a\", \"e\", \"i\", \"o\", \"u\"]  # لیست حروف صدادار\n",
    "    result = \"\"  # متغیر برای ذخیره کردن نتیجه\n",
    "    \n",
    "    for index in text:\n",
    "        if index not in vowels:  # اگر کاراکتر صدادار نباشد\n",
    "            result += index  \n",
    "    \n",
    "    return result  # بازگشت نتیجه نهایی\n",
    "\n",
    "# تست تابع\n",
    "text = \"hello world\"\n",
    "result = remove_vowels(text)  # فراخوانی تابع\n",
    "print(result)  # چاپ نتیجه نهایی\n"
   ]
  },
  {
   "cell_type": "markdown",
   "metadata": {},
   "source": [
    "روش دوم "
   ]
  },
  {
   "cell_type": "code",
   "execution_count": 25,
   "metadata": {},
   "outputs": [
    {
     "name": "stdout",
     "output_type": "stream",
     "text": [
      "You cannot use a number or special character. Please enter a string.\n"
     ]
    }
   ],
   "source": [
    "def remove_vowels_from_input():\n",
    "    try:\n",
    "        text = input(\"Enter your string.....\")  # دریافت ورودی از کاربر\n",
    "        \n",
    "        # بررسی اینکه ورودی فقط شامل حروف باشد\n",
    "        if not text.isalpha():\n",
    "            raise ValueError(\"You cannot use a number or special character. Please enter a string.\")\n",
    "        \n",
    "        vowels = [\"a\", \"e\", \"i\", \"o\", \"u\"]  # لیست حروف صدادار\n",
    "        result = \"\"  # متغیر برای ذخیره کردن نتیجه\n",
    "\n",
    "        for index in text:\n",
    "            if index not in vowels:  # اگر کاراکتر صدادار نباشد\n",
    "                result += index  # آن را به نتیجه اضافه می‌کنیم\n",
    "\n",
    "        print(result)  # چاپ نتیجه نهایی\n",
    "\n",
    "    except ValueError as e:\n",
    "        print(e)  # نمایش پیام خطا\n",
    "\n",
    "# فراخوانی تابع\n",
    "remove_vowels_from_input()\n"
   ]
  }
 ],
 "metadata": {
  "kernelspec": {
   "display_name": "Python 3",
   "language": "python",
   "name": "python3"
  },
  "language_info": {
   "codemirror_mode": {
    "name": "ipython",
    "version": 3
   },
   "file_extension": ".py",
   "mimetype": "text/x-python",
   "name": "python",
   "nbconvert_exporter": "python",
   "pygments_lexer": "ipython3",
   "version": "3.13.1"
  }
 },
 "nbformat": 4,
 "nbformat_minor": 2
}

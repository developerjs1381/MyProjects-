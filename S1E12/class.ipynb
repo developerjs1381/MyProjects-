{
 "cells": [
  {
   "cell_type": "code",
   "execution_count": 2,
   "metadata": {},
   "outputs": [
    {
     "name": "stdout",
     "output_type": "stream",
     "text": [
      "ali\n"
     ]
    }
   ],
   "source": [
    "class imt:\n",
    "    machine=\"k\"\n",
    "    number=10\n",
    "\n",
    "ali=imt\n",
    "ali.machine=\"ali\"\n",
    "print(ali.machine)\n"
   ]
  },
  {
   "cell_type": "code",
   "execution_count": 12,
   "metadata": {},
   "outputs": [
    {
     "name": "stdout",
     "output_type": "stream",
     "text": [
      "My name is abolfazl and I am 22 years old.\n"
     ]
    }
   ],
   "source": [
    "class p1:\n",
    "    def __init__(self, name, age):\n",
    "        self.name = name\n",
    "        self.age = age\n",
    "    \n",
    "    def slam(self):\n",
    "        return f\"My name is {self.name} and I am {self.age} years old.\"\n",
    "\n",
    "p2 = p1(\"abolfazl\", 22)\n",
    "print(p1.slam(p2))\n"
   ]
  },
  {
   "cell_type": "code",
   "execution_count": 16,
   "metadata": {},
   "outputs": [
    {
     "name": "stdout",
     "output_type": "stream",
     "text": [
      "Name: Ali\n",
      "Student ID: 12345\n",
      "GPA: 18.50\n",
      "Name: Sara\n",
      "Student ID: 67890\n",
      "GPA: 15.75\n"
     ]
    }
   ],
   "source": [
    "class Student:\n",
    "    def __init__(self, name, student_id, grades):\n",
    "        \"\"\"\n",
    "        Constructor برای تعریف ویژگی‌های اولیه دانشجو\n",
    "        :param name: نام دانشجو\n",
    "        :param student_id: شماره دانشجویی\n",
    "        :param grades: لیست نمرات دانشجو\n",
    "        \"\"\"\n",
    "        self.name = name\n",
    "        self.student_id = student_id\n",
    "        self.grades = grades\n",
    "\n",
    "    def calculate_gpa(self):\n",
    "        \"\"\"\n",
    "        محاسبه معدل (GPA) بر اساس نمرات\n",
    "        \"\"\"\n",
    "        if len(self.grades) == 0:\n",
    "            return 0\n",
    "        return sum(self.grades) / len(self.grades)\n",
    "\n",
    "    def display_info(self):\n",
    "        \"\"\"\n",
    "        نمایش اطلاعات دانشجو\n",
    "        \"\"\"\n",
    "        gpa = self.calculate_gpa()\n",
    "        print(f\"Name: {self.name}\")\n",
    "        print(f\"Student ID: {self.student_id}\")\n",
    "        print(f\"GPA: {gpa:.2f}\")\n",
    "\n",
    "\n",
    "# ایجاد چند نمونه (Object) از کلاس Student\n",
    "student1 = Student(\"Ali\", 12345, [18, 19, 17, 20])\n",
    "student2 = Student(\"Sara\", 67890, [16, 15, 14, 18])\n",
    "\n",
    "# نمایش اطلاعات دانشجویان\n",
    "student1.display_info()\n",
    "student2.display_info()\n"
   ]
  },
  {
   "cell_type": "code",
   "execution_count": 20,
   "metadata": {},
   "outputs": [
    {
     "name": "stdout",
     "output_type": "stream",
     "text": [
      "22\n"
     ]
    }
   ],
   "source": [
    "class ali:\n",
    "    def __init__(self,age):\n",
    "        self.__age=age\n",
    "    def bg(self):\n",
    "        return self.__age\n",
    "w=ali(22)\n",
    "print(w.bg())        "
   ]
  },
  {
   "cell_type": "code",
   "execution_count": 15,
   "metadata": {},
   "outputs": [
    {
     "name": "stdout",
     "output_type": "stream",
     "text": [
      "10000 تومان به حساب واریز شد.\n",
      "20000 تومان از حساب برداشت شد.\n",
      "موجودی حساب: 40000 تومان\n"
     ]
    }
   ],
   "source": [
    "class BankAccount:\n",
    "    def __init__(self, account_holder, balance):\n",
    "        self.account_holder = account_holder\n",
    "        self.__balance = balance  # متغیر خصوصی\n",
    "\n",
    "    def hh(self, amount):\n",
    "        \"\"\"\n",
    "        واریز پول به حساب\n",
    "        \"\"\"\n",
    "        if amount > 0:\n",
    "            self.__balance += amount\n",
    "            print(f\"{amount} تومان به حساب واریز شد.\")\n",
    "        else:\n",
    "            print(\"مبلغ واریز باید مثبت باشد.\")\n",
    "\n",
    "    def withdraw(self, amount):\n",
    "        \"\"\"\n",
    "        برداشت پول از حساب\n",
    "        \"\"\"\n",
    "        if amount > 0 and amount <= self.__balance:\n",
    "            self.__balance -= amount\n",
    "            print(f\"{amount} تومان از حساب برداشت شد.\")\n",
    "        else:\n",
    "            print(\"مبلغ برداشت نامعتبر است.\")\n",
    "\n",
    "    def display_balance(self):\n",
    "        \"\"\"\n",
    "        نمایش موجودی حساب\n",
    "        \"\"\"\n",
    "        print(f\"موجودی حساب: {self.__balance} تومان\")\n",
    "\n",
    "\n",
    "# ایجاد یک نمونه از کلاس BankAccount\n",
    "account = BankAccount(\"Ali\", 50000)\n",
    "\n",
    "# عملیات واریز و برداشت پول\n",
    "account.hh(10000)\n",
    "account.withdraw(20000)\n",
    "# account.__balance+=100\n",
    "# نمایش موجودی حساب\n",
    "account.display_balance()\n",
    "\n",
    "# تلاش برای دسترسی مستقیم به متغیر خصوصی (ناموفق)\n",
    "# print(account.__balance)  # این خط خطا می‌دهد\n"
   ]
  },
  {
   "cell_type": "code",
   "execution_count": null,
   "metadata": {},
   "outputs": [],
   "source": []
  }
 ],
 "metadata": {
  "kernelspec": {
   "display_name": "Python 3",
   "language": "python",
   "name": "python3"
  },
  "language_info": {
   "codemirror_mode": {
    "name": "ipython",
    "version": 3
   },
   "file_extension": ".py",
   "mimetype": "text/x-python",
   "name": "python",
   "nbconvert_exporter": "python",
   "pygments_lexer": "ipython3",
   "version": "3.13.1"
  }
 },
 "nbformat": 4,
 "nbformat_minor": 2
}

{
 "cells": [
  {
   "cell_type": "markdown",
   "metadata": {},
   "source": [
    "<div class=\"col\" style=\"color:white;font-size:65px;text-align:center;text-shadow:1px 1px 12px pink\">Task3..S1E12</div>"
   ]
  },
  {
   "cell_type": "markdown",
   "metadata": {},
   "source": [
    "<p style=\"color:green;font-size:25px\">Part1</p>\n",
    "<p style=\"color:yellow;font-size:22px\">  جمع اعداد اول 1 تا 50 </p> "
   ]
  },
  {
   "cell_type": "markdown",
   "metadata": {},
   "source": [
    "روش 1"
   ]
  },
  {
   "cell_type": "code",
   "execution_count": 31,
   "metadata": {},
   "outputs": [
    {
     "name": "stdout",
     "output_type": "stream",
     "text": [
      "[2, 3, 5, 7, 11, 13, 17, 19, 23, 29, 31, 37, 41, 43, 47]\n",
      "Sum of all numbers➡️ 328\n"
     ]
    }
   ],
   "source": [
    "x = 1  \n",
    "arr = []  # لیست خالی برای ذخیره اعداد اول\n",
    "while x < 50:  # اعداد بین 1 تا 50\n",
    "    x += 1  \n",
    "    bol = True  # فرض بر اول بودن عدد\n",
    "    for num in range(2, x): \n",
    "        if x % num == 0:  #اگر بخش پذیر بود یعنی اول نیست\n",
    "            bol = False  \n",
    "            break  # خروج از حلقه\n",
    "    if bol:  # اگر عدد اول بود\n",
    "        arr.append(x)  # عدد به لیست اضافه می‌شود\n",
    "sum_arr = sum(arr)  # جمع تمام اعداد اول\n",
    "print(\"\",arr)  # چاپ لیست اعداد اول\n",
    "print(f\"Sum of all numbers➡️{sum_arr:4}\")  # چاپ جمع اعداد اول\n"
   ]
  },
  {
   "cell_type": "markdown",
   "metadata": {},
   "source": [
    "روش دوم\n"
   ]
  },
  {
   "cell_type": "code",
   "execution_count": 33,
   "metadata": {},
   "outputs": [
    {
     "name": "stdout",
     "output_type": "stream",
     "text": [
      "[2, 3, 5, 7, 11, 13, 17, 19, 23, 29, 31, 37, 41, 43, 47]\n",
      "Sum of all numbers ➡️  328\n"
     ]
    }
   ],
   "source": [
    "x = 1  \n",
    "arr = []  # لیست خالی برای ذخیره اعداد اول\n",
    "sum_arr = 0  # متغیر برای جمع اعداد اول\n",
    "\n",
    "while x < 50: \n",
    "    x += 1 \n",
    "    bol = True  # فرض بر اول بودن عدد\n",
    "    num = 2  # شروع بررسی از عدد 2\n",
    "\n",
    "    while num < x:  #  x-1از عدد 2 تا xبررسی مقسوم العلیه های \n",
    "        if x % num == 0:#بررسی\n",
    "            bol = False  # عدد اول نیست\n",
    "            break  # خروج از حلقه\n",
    "        num += 1  # افزایش مقسوم‌علیه بعد از هر بررسی\n",
    "\n",
    "    if bol:  # اگر عدد اول بود\n",
    "        arr.append(x)  # عدد به لیست اضافه می‌شود\n",
    "        sum_arr += x  # عدد به مجموع اضافه می‌شود\n",
    "\n",
    "print(arr)  # چاپ لیست اعداد اول\n",
    "print(f\"Sum of all numbers ➡️ {sum_arr:4}\")  # چاپ جمع اعداد اول\n"
   ]
  },
  {
   "cell_type": "markdown",
   "metadata": {},
   "source": [
    "<p style=\"color:green;font-size:25px\">Part2</p>\n",
    "<p style=\"color:yellow;font-size:22px\">معکوس کردن رشته </p> "
   ]
  },
  {
   "cell_type": "markdown",
   "metadata": {},
   "source": [
    "روش اول"
   ]
  },
  {
   "cell_type": "code",
   "execution_count": 7,
   "metadata": {},
   "outputs": [
    {
     "name": "stdout",
     "output_type": "stream",
     "text": [
      "loba"
     ]
    }
   ],
   "source": [
    "user_input = input(\"Enter a string: \") \n",
    "index = 0  # مقداردهی اولیه متغیر شمارنده\n",
    "char_list = []  # لیستی برای ذخیره   ورودی\n",
    "\n",
    "while index < len(user_input):  # کمتر از طول رشته باشدindex اجرای حلقه تا زمانی که \n",
    "    char_list.append(user_input[index])  # اضافه کردن کاراکتر فعلی به لیست\n",
    "    index += 1  # افزایش مقدار  \n",
    "    \n",
    "char_list.reverse()  # معکوس کردن   \n",
    "\n",
    "for char in char_list:  # پیمایش عناصر لیست معکوس‌شده\n",
    "    print(f\"{char:1}\", end=\"\")\n"
   ]
  },
  {
   "cell_type": "markdown",
   "metadata": {},
   "source": [
    "روش دوم\n"
   ]
  },
  {
   "cell_type": "code",
   "execution_count": null,
   "metadata": {},
   "outputs": [
    {
     "name": "stdout",
     "output_type": "stream",
     "text": [
      "\n"
     ]
    }
   ],
   "source": [
    "user_text = input(\"لطفاً نوشته خود را وارد کنید: \")  # دریافت ورودی از کاربر\n",
    "reversed_text = user_text[::-1]  #Slicing  معکوس کردن رشته با \n",
    "print(reversed_text) \n",
    "\n",
    "#اینم یه روش جالب "
   ]
  },
  {
   "cell_type": "markdown",
   "metadata": {},
   "source": [
    "<p style=\"color:green;font-size:35px\">Part3</p> \n",
    "<p style=\"color:yellow;font-size:22px\">محاسبه مجموع ارقام عدد</p> "
   ]
  },
  {
   "cell_type": "markdown",
   "metadata": {},
   "source": [
    "روش اول"
   ]
  },
  {
   "cell_type": "code",
   "execution_count": 15,
   "metadata": {},
   "outputs": [
    {
     "name": "stdout",
     "output_type": "stream",
     "text": [
      "Sum of digits: ✅15\n"
     ]
    }
   ],
   "source": [
    "try:\n",
    "    user_input = int(input(\"Enter a number: \"))  # دریافت عدد از کاربر\n",
    "    user_input_str = str(user_input)  # تبدیل عدد به رشته\n",
    "    index = 0  # شمارنده برای پیمایش رشته\n",
    "    sum_digits = 0  # متغیر برای ذخیره مجموع ارقام\n",
    "\n",
    "    while index < len(user_input_str):  # پیمایش ارقام عدد\n",
    "        sum_digits += int(user_input_str[index])  # تبدیل کاراکتر به عدد و جمع کردن آن\n",
    "        index += 1  # افزایش شمارنده\n",
    "\n",
    "    print(f\"Sum of digits: ✅{sum_digits}\")  # نمایش مجموع ارقام\n",
    "\n",
    "except ValueError:\n",
    "    print(\"Please enter a valid number.\")  # مدیریت خطا در صورت وارد کردن مقدار غیرعددی\n"
   ]
  },
  {
   "cell_type": "markdown",
   "metadata": {},
   "source": [
    "روش دوم\n",
    "\n",
    "با عملیات ریاضی \n",
    "\n",
    "  عدد اخری رو sum_digits += user_input % 10 من شرط رو گزاشتم تا زمانی که اون ورودی من به صفر نرسیده شرط دایراست بعد با عملیات تقسیم و باقی مانده جدا کردم و چسباندم به متغییرم و سپس عدد ورودی رو تقسیم بر 10 کردم تا 1 رقم از اخر کم بشه تا اون عدد به صفر برسه و شرط تمام شه "
   ]
  },
  {
   "cell_type": "code",
   "execution_count": 17,
   "metadata": {},
   "outputs": [
    {
     "name": "stdout",
     "output_type": "stream",
     "text": [
      "Sum of digits:👌✅ 15\n"
     ]
    }
   ],
   "source": [
    "try:\n",
    "    user_input = int(input(\"Enter a number: \"))  # دریافت عدد از کاربر\n",
    "    user_input = abs(user_input)  # مقدار مطلق برای حذف تأثیر اعداد منفی\n",
    "    sum_digits = 0  # متغیر برای ذخیره مجموع ارقام\n",
    "\n",
    "    while user_input > 0:  # تا زمانی که عدد باقی مانده باشد\n",
    "        sum_digits += user_input % 10  # دریافت آخرین رقم و افزودن به مجموع\n",
    "        user_input //= 10  # حذف آخرین رقم از عدد\n",
    "\n",
    "    print(f\"Sum of digits:👌✅ {sum_digits}\")  # نمایش نتیجه\n",
    "except ValueError:\n",
    "    print(\"Invalid input! Please enter a valid integer.\")  # پیام خطای واضح‌تر\n"
   ]
  }
 ],
 "metadata": {
  "kernelspec": {
   "display_name": "base",
   "language": "python",
   "name": "python3"
  },
  "language_info": {
   "codemirror_mode": {
    "name": "ipython",
    "version": 3
   },
   "file_extension": ".py",
   "mimetype": "text/x-python",
   "name": "python",
   "nbconvert_exporter": "python",
   "pygments_lexer": "ipython3",
   "version": "3.12.7"
  }
 },
 "nbformat": 4,
 "nbformat_minor": 2
}

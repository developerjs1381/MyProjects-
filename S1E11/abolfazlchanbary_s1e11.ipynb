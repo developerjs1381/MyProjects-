{
 "cells": [
  {
   "cell_type": "markdown",
   "metadata": {},
   "source": [
    "<div class=\"col\" style=\"color:black;font-size:65px;text-align:center;text-shadow:1px 1px 12px orange\">Task3..S1E11</div>"
   ]
  },
  {
   "cell_type": "markdown",
   "metadata": {},
   "source": [
    "<p style=\"color:green;font-size:25px\">Part1</p>"
   ]
  },
  {
   "cell_type": "code",
   "execution_count": 91,
   "metadata": {},
   "outputs": [
    {
     "name": "stdout",
     "output_type": "stream",
     "text": [
      "[2, 3, 5, 7, 11, 13, 17, 19, 23]\n",
      "3x3 Matrix of Prime Numbers:\n",
      "Method 1\n",
      "[2, 3, 5]\n",
      "[7, 11, 13]\n",
      "[17, 19, 23]\n",
      "Method 2\n",
      "   2   3   5\n",
      "   7  11  13\n",
      "  17  19  23\n"
     ]
    }
   ],
   "source": [
    "# لیست خالی برای ذخیره اعداد اول\n",
    "primes = []\n",
    "\n",
    "\n",
    "for possiblePrime in range(2, 24):\n",
    "    \n",
    "    # فرض می‌کنیم که عدد اول است\n",
    "    isPrime = True\n",
    "    \n",
    "    # بررسی می‌کنیم که آیا این عدد قابل تقسیم بر عدد دیگری است یا نه\n",
    "    for num in range(2, possiblePrime):\n",
    "        if possiblePrime % num == 0:\n",
    "            # اگر عدد بر دیگر عددها بخش‌پذیر باشد، پس اول نیست\n",
    "            isPrime = False\n",
    "            break  # به محض یافتن مقسوم‌علیه، حلقه را ترک می‌کنیم\n",
    "    \n",
    "    if isPrime:\n",
    "        primes.append(possiblePrime)\n",
    "\n",
    "# چاپ لیست نهایی از اعداد اول\n",
    "print(primes)\n",
    "\n",
    "\n",
    "print(\"3x3 Matrix of Prime Numbers:\")\n",
    "\n",
    "# حلقه‌ای برای چاپ اعداد اول به صورت ماتریس \n",
    "print(\"Method 1\")\n",
    "for i in range(0, len(primes), 3):  \n",
    "    # چاپ سه عدد در هر سطر\n",
    "     print(f\"{primes[i:i+3]}\") \n",
    "     \n",
    "     #اینجا هم  ارایه ها با حلقه در اوردمشون\n",
    "print(\"Method 2\")\n",
    "for i in range(0, len(primes), 3):  \n",
    "     print(''.join(f\"{item:4}\" for item in primes[i:i+3])) "
   ]
  },
  {
   "cell_type": "markdown",
   "metadata": {},
   "source": [
    "<p style=\"color:orange;font-size:25px\">Part2</p>"
   ]
  },
  {
   "cell_type": "code",
   "execution_count": 92,
   "metadata": {},
   "outputs": [
    {
     "name": "stdout",
     "output_type": "stream",
     "text": [
      "   1   2   3   4   5   6   7   8   9  10❤️\n",
      "   2   4   6   8  10  12  14  16  18  20❤️\n",
      "   3   6   9  12  15  18  21  24  27  30❤️\n",
      "   4   8  12  16  20  24  28  32  36  40❤️\n",
      "   5  10  15  20  25  30  35  40  45  50❤️\n",
      "   6  12  18  24  30  36  42  48  54  60❤️\n",
      "   7  14  21  28  35  42  49  56  63  70❤️\n",
      "   8  16  24  32  40  48  56  64  72  80❤️\n",
      "   9  18  27  36  45  54  63  72  81  90❤️\n",
      "  10  20  30  40  50  60  70  80  90 100❤️\n"
     ]
    }
   ],
   "source": [
    "for x in range(1,11):\n",
    "    for i in range(1,11):\n",
    "        res=x*i\n",
    "        print(f\"{res:4}\",end='') # چاپ نتیجه با فاصله 4 رقمی\n",
    "    print(\"❤️\")    "
   ]
  },
  {
   "cell_type": "markdown",
   "metadata": {},
   "source": [
    "<p style=\"color:red;font-size:25px\">Part2</p>"
   ]
  },
  {
   "cell_type": "code",
   "execution_count": 94,
   "metadata": {},
   "outputs": [
    {
     "name": "stdout",
     "output_type": "stream",
     "text": [
      "تعداد حروف صدادار: 14\n",
      "index Vowels:➡️[2, 5, 8, 11, 17, 19, 22, 24, 27, 29, 31, 33, 34, 36]\n"
     ]
    }
   ],
   "source": [
    "# متن مورد نظر\n",
    "text = \"Programming in Python is fun and educational\"\n",
    "text=text.replace(\" \",\"\")\n",
    "# تعریف حروف صدادار\n",
    "vowels = \"aeiou\"\n",
    "# لیست برای ذخیره حروف صدادار\n",
    "vowel_list = []\n",
    "\n",
    "# حلقه برای بررسی هر حرف در متن\n",
    "for index,char in enumerate(text):\n",
    "    if char.lower() in vowels:  # بررسی کوچک و بزرگ بودن حروف\n",
    "        vowel_list.append(index)\n",
    "# نمایش نتایج\n",
    "\n",
    "print(\"تعداد حروف صدادار:\", len(vowel_list))\n",
    "print(f\"Vowel indexes:➡️{vowel_list}\")\n"
   ]
  },
  {
   "cell_type": "code",
   "execution_count": null,
   "metadata": {},
   "outputs": [],
   "source": []
  },
  {
   "cell_type": "code",
   "execution_count": null,
   "metadata": {},
   "outputs": [],
   "source": []
  }
 ],
 "metadata": {
  "kernelspec": {
   "display_name": "base",
   "language": "python",
   "name": "python3"
  },
  "language_info": {
   "codemirror_mode": {
    "name": "ipython",
    "version": 3
   },
   "file_extension": ".py",
   "mimetype": "text/x-python",
   "name": "python",
   "nbconvert_exporter": "python",
   "pygments_lexer": "ipython3",
   "version": "3.12.7"
  }
 },
 "nbformat": 4,
 "nbformat_minor": 4
}

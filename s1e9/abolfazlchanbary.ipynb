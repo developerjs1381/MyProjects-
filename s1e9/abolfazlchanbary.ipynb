{
 "cells": [
  {
   "cell_type": "markdown",
   "metadata": {},
   "source": [
    "<div class=\"col\" style=\"color:white;font-size:65px;text-align:center;text-shadow:1px 1px 12px cyan\">Task2..S1E9</div>"
   ]
  },
  {
   "cell_type": "markdown",
   "metadata": {},
   "source": [
    "<p style=\"font-size:35px\">Easy</p>"
   ]
  },
  {
   "cell_type": "code",
   "execution_count": 26,
   "metadata": {},
   "outputs": [
    {
     "name": "stdout",
     "output_type": "stream",
     "text": [
      "Your number is positive➕👍172\n"
     ]
    }
   ],
   "source": [
    "# دریافت عدد از کاربر\n",
    "num = int(input(\"Enter your number.....\"))\n",
    "\n",
    "# بررسی عدد وارد شده و چاپ وضعیت آن\n",
    "if num > 0:\n",
    "    # اگر عدد مثبت باشد\n",
    "    print(f\"Your number is positive➕👍{num}\")\n",
    "elif num < 0:\n",
    "    # اگر عدد منفی باشد\n",
    "    print(f\"Your number is negative👎➖{num}\")\n",
    "else:\n",
    "    # اگر عدد صفر باشد\n",
    "    print(f\"Your number is zero0️⃣{num}\")\n"
   ]
  },
  {
   "cell_type": "markdown",
   "metadata": {},
   "source": [
    "<p style=\"font-size:35px\">Medium</p>"
   ]
  },
  {
   "cell_type": "code",
   "execution_count": 6,
   "metadata": {},
   "outputs": [
    {
     "name": "stdout",
     "output_type": "stream",
     "text": [
      "cold🧊🌬️10°C\n"
     ]
    }
   ],
   "source": [
    "# دریافت دمای هوا از کاربر به درجه سلسیوس\n",
    "Temperature = int(input(\"Enter your degree in Celsius....\"))\n",
    "\n",
    "# بررسی دما و چاپ وضعیت مرتبط با آن\n",
    "if Temperature < 0:\n",
    "    # اگر دما زیر صفر باشد (یخ‌زدگی)\n",
    "    print(f\"Freezing🥶❄️ {Temperature}\\u00B0C\")\n",
    "elif Temperature <= 10:\n",
    "    # اگر دما بین 0 تا 10 درجه باشد (سرد)\n",
    "    print(f\"cold🧊🌬️{Temperature}\\u00B0C\")\n",
    "elif Temperature <= 20:\n",
    "    # اگر دما بین 11 تا 20 درجه باشد (خنک)\n",
    "    print(f\"cool🌿🍃{Temperature}\\u00B0C\")\n",
    "elif Temperature <= 30:\n",
    "    # اگر دما بین 21 تا 30 درجه باشد (گرم)\n",
    "    print(f\"warm🌞🌻{Temperature}\\u00B0C\")\n",
    "else:\n",
    "    # اگر دما بالای 30 درجه باشد (داغ)\n",
    "    print(f\"Hot🔥🥵 {Temperature}\\u00B0C\")\n"
   ]
  },
  {
   "cell_type": "markdown",
   "metadata": {},
   "source": [
    "<p style=\"font-size:35px\">Hard</p>"
   ]
  },
  {
   "cell_type": "markdown",
   "metadata": {},
   "source": [
    "<p style=\"font-size:25px;color:red\">روش اول </p>"
   ]
  },
  {
   "cell_type": "code",
   "execution_count": 7,
   "metadata": {},
   "outputs": [
    {
     "ename": "ValueError",
     "evalue": "invalid literal for int() with base 10: ''",
     "output_type": "error",
     "traceback": [
      "\u001b[1;31m---------------------------------------------------------------------------\u001b[0m",
      "\u001b[1;31mValueError\u001b[0m                                Traceback (most recent call last)",
      "Cell \u001b[1;32mIn[7], line 1\u001b[0m\n\u001b[1;32m----> 1\u001b[0m Height \u001b[38;5;241m=\u001b[39m \u001b[38;5;28mint\u001b[39m(\u001b[38;5;28minput\u001b[39m(\u001b[38;5;124m\"\u001b[39m\u001b[38;5;124mEnter your height in centimeters.(cm)\u001b[39m\u001b[38;5;124m\"\u001b[39m))  \u001b[38;5;66;03m# دریافت قد از کاربر به سانتی‌متر\u001b[39;00m\n\u001b[0;32m      2\u001b[0m width \u001b[38;5;241m=\u001b[39m \u001b[38;5;28mint\u001b[39m(\u001b[38;5;28minput\u001b[39m(\u001b[38;5;124m\"\u001b[39m\u001b[38;5;124mPlease enter your weight in kilograms.(kg)\u001b[39m\u001b[38;5;124m\"\u001b[39m))  \u001b[38;5;66;03m# دریافت وزن از کاربر به کیلوگرم\u001b[39;00m\n\u001b[0;32m      4\u001b[0m \u001b[38;5;66;03m# بررسی این گه عدد من مثبت باشد\u001b[39;00m\n",
      "\u001b[1;31mValueError\u001b[0m: invalid literal for int() with base 10: ''"
     ]
    }
   ],
   "source": [
    "Height = int(input(\"Enter your height in centimeters.(cm)\"))  # دریافت قد از کاربر به سانتی‌متر\n",
    "width = int(input(\"Please enter your weight in kilograms.(kg)\"))  # دریافت وزن از کاربر به کیلوگرم\n",
    "\n",
    "# بررسی این گه عدد من مثبت باشد\n",
    "if Height > 0 and width > 0:\n",
    "    def convertToMeter(Height):\n",
    "        # تبدیل قد از سانتی‌متر به متر \n",
    "        return (Height / 100)**2\n",
    "\n",
    "    def bodyMassIndex(stature, weight):\n",
    "        # محاسبه bmi\n",
    "        stature = convertToMeter(stature)  # تبدیل قد به متر مربع\n",
    "        bmi = weight / stature  # فرمول محاسبه BMI\n",
    "        bmi_index = round(bmi, 2)  # گرد کردن مقدار BMI به دو رقم اعشار\n",
    "\n",
    "        # بررسی ضعیت\n",
    "        if bmi_index < 18:\n",
    "            #   کمبود وزن\n",
    "            print(f\"You are underweight. 🥦({bmi_index})=>Your ideal weight is➔{ideal(weight, stature)}⬅️\")\n",
    "        elif 18 <= bmi_index < 25:\n",
    "            #   وزن طبیعی\n",
    "            print(f\"You are in a natural state. 🍎({bmi_index})=> Your ideal weight is➔{ideal(weight, stature)}⬅️\")\n",
    "        elif 25 <= bmi_index < 40:\n",
    "            #   اضافه وزن\n",
    "            print(f\"You are overweight. 🍔({bmi_index})=> Your ideal weight is➔{ideal(weight, stature)}⬅️\")\n",
    "        else:\n",
    "            #   چاقی شدید\n",
    "            print(f\"You are severely obese. 🍰({bmi_index})=>Your ideal weight is➔{ideal(weight, stature)}⬅️\")\n",
    "\n",
    "    def ideal(width, Height):\n",
    "        # محاسبه وزن ایده‌آل بر اساس قد\n",
    "        if Height == 0:\n",
    "            raise ValueError(\"Height cannot be zero.\")  # خطا در صورت صفر بودن قد\n",
    "\n",
    "        bmi = width / Height  # محاسبه BMI\n",
    "        g = 0  # شمارنده وزن‌های ایده‌آل\n",
    "        t = []  # لیستی برای ذخیره وزن‌های ایده‌آل\n",
    "\n",
    "        # بررسی وزن‌ها از 0 تا 250\n",
    "        for i in range(250):\n",
    "            if 18 <= i / Height < 25:  # محدوده BMI برای وزن طبیعی\n",
    "                t.append(i)  # اضافه کردن وزن به لیست\n",
    "                g += 1  # افزایش شمارنده\n",
    "\n",
    "        # اگر هیچ وزنی در محدوده ایده‌آل پیدا نشد\n",
    "        if g == 0:\n",
    "            return \"No ideal weight found.\"\n",
    "\n",
    "        avg = sum(t) / g  # محاسبه میانگین\n",
    "\n",
    "        # اگر میانگین وزن ایده‌آل نزدیک به وزن فعلی باشد\n",
    "        if abs(avg - width) <= 5:\n",
    "            return f\"Ideal weight close to current weight:✅ {avg:.2f}\"\n",
    "        else:\n",
    "            # بازگشت وزن ایده‌آل محاسبه شده\n",
    "            return f\"Calculated ideal weight: {avg:.2f}\"\n",
    "\n",
    "    \n",
    "    bodyMassIndex(Height, width)\n",
    "else:\n",
    "    # پیام خطا در صورت وارد کردن مقادیر نادرست\n",
    "    print(\"Please fill in the values correctly.\")\n"
   ]
  },
  {
   "cell_type": "markdown",
   "metadata": {},
   "source": [
    "<p style=\"font-size:25px;color:green\">روش دوم </p>"
   ]
  },
  {
   "cell_type": "markdown",
   "metadata": {},
   "source": [
    "<p style=\"text-shadow: 1px 1px 12px red; font-size: 22px;\">Weight = BMI × (Height in meters)²</p>\n",
    "<p style=\"font-size:22px\">\n",
    "    من در روش اول امدم برای محاسیه کردن وزن مناسب تا عدد 250 رو بررسی کردم تا به جواب برسم \n",
    "    حالا من در این روش با استفاده از یه فرمول ساده می خوام بیام و وزن مناسب رو پیدا کنم \n",
    "</p>\n"
   ]
  },
  {
   "cell_type": "code",
   "execution_count": 11,
   "metadata": {},
   "outputs": [
    {
     "name": "stdout",
     "output_type": "stream",
     "text": [
      "BMI: 24.22 => normal weight 🍎\n",
      "Suitable weight range: 52.0 to 72.2 Kg\n"
     ]
    }
   ],
   "source": [
    "# دریافت قد از کاربر به سانتی‌متر\n",
    "Height = int(input(\"Enter your height in centimeters.(cm)\"))\n",
    "# دریافت وزن از کاربر به کیلوگرم\n",
    "width = int(input(\"Please enter your weight in kilograms.(kg)\"))\n",
    "\n",
    "# بررسی صحت مقادیر ورودی برای قد و وزن\n",
    "if Height > 0 and width > 0:\n",
    "    def convertToMeter(Height):\n",
    "        # تبدیل قد از سانتی‌متر به متر مربع\n",
    "        return (Height / 100) ** 2\n",
    "\n",
    "    def bodyMassIndex(stature, weight):\n",
    "        # محاسبه شاخص توده بدنی (BMI)\n",
    "        stature = convertToMeter(stature)  # تبدیل قد به متر مربع\n",
    "        bmi = weight / stature  # فرمول محاسبه BMI\n",
    "        bmi_index = round(bmi, 2)  # گرد کردن مقدار BMI به دو رقم اعشار\n",
    "\n",
    "        # چاپ وضعیت بدنی به طور خلاصه\n",
    "        if bmi_index < 18:\n",
    "            status = \"underweight 🥦\"  # وضعیت کمبود وزن\n",
    "        elif bmi_index < 25:\n",
    "            status = \"normal weight 🍎\"  # وضعیت وزن طبیعی\n",
    "        elif  bmi_index < 40:\n",
    "            status = \"overweight 🍔\"  # وضعیت اضافه وزن\n",
    "        else:\n",
    "            status = \"severely obese 🍰\"  # وضعیت چاقی شدید\n",
    "\n",
    "#اینحا امدم و از فرمول استفاده کردم و حداقل وزن و حراکثر برای بازه مناسب رو مشحص کردم\n",
    "        ideal_weight_min =18*((Height/100)**2)\n",
    "        ideal_weight_max = 25*((Height/100)**2)\n",
    "      \n",
    " \n",
    "        print(f\"BMI: {bmi_index} => {status}\")\n",
    "        print(f\"Suitable weight range: {ideal_weight_min:.1f} to {ideal_weight_max:.1f} Kg\")  # نمایش وزن ایده‌آل\n",
    "    # فراخوانی تابع محاسبه شاخص توده بدنی\n",
    "    bodyMassIndex(Height, width)\n",
    "else:\n",
    "    # پیام خطا در صورت وارد کردن مقادیر نادرست\n",
    "    print(\"Please fill in the values correctly.\")\n"
   ]
  }
 ],
 "metadata": {
  "kernelspec": {
   "display_name": "base",
   "language": "python",
   "name": "python3"
  },
  "language_info": {
   "codemirror_mode": {
    "name": "ipython",
    "version": 3
   },
   "file_extension": ".py",
   "mimetype": "text/x-python",
   "name": "python",
   "nbconvert_exporter": "python",
   "pygments_lexer": "ipython3",
   "version": "3.12.7"
  }
 },
 "nbformat": 4,
 "nbformat_minor": 4
}
